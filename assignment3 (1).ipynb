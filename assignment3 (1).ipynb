{
 "cells": [
  {
   "cell_type": "markdown",
   "id": "4b5e2126-d71f-4771-a717-0d1dacd7a519",
   "metadata": {},
   "source": [
    "Q1. Which keyword is used to create a function? Create a function to return a list of odd numbers in the\n",
    "range of 1 to 25."
   ]
  },
  {
   "cell_type": "markdown",
   "id": "61d57b1b-447c-4c54-9ff2-d0a2e0a29b74",
   "metadata": {},
   "source": [
    "In python def keyword is used to create a function.\n"
   ]
  },
  {
   "cell_type": "code",
   "execution_count": 14,
   "id": "95828878-46ca-458a-b3cb-64daa49b77b1",
   "metadata": {},
   "outputs": [
    {
     "data": {
      "text/plain": [
       "[1, 3, 5, 7, 9, 11, 13, 15, 17, 19, 21, 23, 25]"
      ]
     },
     "execution_count": 14,
     "metadata": {},
     "output_type": "execute_result"
    }
   ],
   "source": [
    "l=[]\n",
    "def odd_number():\n",
    "    for i in range(26):\n",
    "        if i%2 != 0:\n",
    "            l.append(i)\n",
    "    return l\n",
    "odd_number()    "
   ]
  },
  {
   "cell_type": "markdown",
   "id": "ff4ddbc3-4f45-408d-b2c0-7b3caa8e6aa2",
   "metadata": {},
   "source": [
    "Q2. Why *args and **kwargs is used in some functions? Create a function each for *args and **kwargs\n",
    "to demonstrate their use."
   ]
  },
  {
   "cell_type": "markdown",
   "id": "ba80b9ab-6845-49e2-b543-79d7fbb4cba6",
   "metadata": {},
   "source": [
    "In python, *args is use in python user defined function to create the multiple parameters and to pass the multiple parmeters.\n",
    "and **kwargs are use in python user defined function to create the dictionary data structure by using the function.\n"
   ]
  },
  {
   "cell_type": "code",
   "execution_count": 36,
   "id": "7f0eb079-0b07-47d1-9003-1d8f53abaa18",
   "metadata": {},
   "outputs": [
    {
     "data": {
      "text/plain": [
       "(55,)"
      ]
     },
     "execution_count": 36,
     "metadata": {},
     "output_type": "execute_result"
    }
   ],
   "source": [
    "def sums(*args):\n",
    "    # args = p+y+z+a\n",
    "    return args\n",
    "sums(1+2+3+4+5+6+7+8+9+10)"
   ]
  },
  {
   "cell_type": "code",
   "execution_count": 51,
   "id": "a7f5100a-4ef3-438c-abbb-937fe5906908",
   "metadata": {},
   "outputs": [
    {
     "data": {
      "text/plain": [
       "{'name': 'sahil', 'cl': 'btech(2nd sem)', 'subject': 'python'}"
      ]
     },
     "execution_count": 51,
     "metadata": {},
     "output_type": "execute_result"
    }
   ],
   "source": [
    "def data(**kwargs):\n",
    "    return kwargs\n",
    "data(name=\"sahil\", cl=\"btech(2nd sem)\",subject=\"python\")"
   ]
  },
  {
   "cell_type": "markdown",
   "id": "95f52b72-f067-44ab-87e7-f906bb346a6c",
   "metadata": {},
   "source": [
    "Q3. What is an iterator in python? Name the method used to initialise the iterator object and the method\n",
    "used for iteration. Use these methods to print the first five elements of the given list [2, 4, 6, 8, 10, 12, 14,\n",
    "16, 18, 20]."
   ]
  },
  {
   "cell_type": "markdown",
   "id": "8d2af379-57ce-4a82-adb0-19316500b364",
   "metadata": {},
   "source": [
    " In Python, an iterator is an object that allows you to iterate over collections of data, such as lists, tuples, dictionaries, and sets.\n",
    " To create an iterator object in Python, you can use the iter() function.\n",
    " To iterate over the elements of an iterator, you can use the next() function. "
   ]
  },
  {
   "cell_type": "code",
   "execution_count": 52,
   "id": "71466d96-2ce8-47f2-a0aa-6b53e8852dc2",
   "metadata": {},
   "outputs": [
    {
     "name": "stdout",
     "output_type": "stream",
     "text": [
      "2\n",
      "4\n",
      "6\n",
      "8\n",
      "10\n"
     ]
    }
   ],
   "source": [
    "my_list = [2, 4, 6, 8, 10, 12, 14, 16, 18, 20]\n",
    "my_iterator = iter(my_list)\n",
    "for i in range(5):\n",
    "    element = next(my_iterator)\n",
    "    print(element)"
   ]
  },
  {
   "cell_type": "markdown",
   "id": "73e40f5d-1c19-4ca0-b700-fc6c205039b2",
   "metadata": {},
   "source": [
    "Q4. What is a generator function in python? Why yield keyword is used? Give an example of a generator\n",
    "function."
   ]
  },
  {
   "cell_type": "markdown",
   "id": "4bea828d-6ba7-478f-91d9-e4df1a62081c",
   "metadata": {},
   "source": [
    "In Python, a generator function is a special type of function that generates a sequence of values using the yield keyword. It allows you to define a function that behaves like an iterator A generator function is defined using the def keyword, just like a regular function. However, instead of using the return statement to return a value, a generator function uses the yield statement.\n",
    "The benefit of using a generator function with the yield keyword is that it allows you to generate a sequence of values on-the-fly, without storing them all in memory at once. This is particularly useful when dealing with large datasets or infinite sequences."
   ]
  },
  {
   "cell_type": "code",
   "execution_count": 59,
   "id": "d854b31c-3d22-44e6-b8da-7d43ad5fec50",
   "metadata": {},
   "outputs": [
    {
     "name": "stdout",
     "output_type": "stream",
     "text": [
      "0\n",
      "2\n",
      "4\n",
      "6\n",
      "8\n",
      "10\n",
      "12\n",
      "14\n",
      "16\n",
      "18\n",
      "20\n"
     ]
    }
   ],
   "source": [
    "def square_numbers(n):\n",
    "    for i in range(n):\n",
    "        yield i*2\n",
    "generator = square_numbers(11)\n",
    "for j in generator:\n",
    "    print(j)\n"
   ]
  },
  {
   "cell_type": "markdown",
   "id": "1f3660aa-63b7-4f2f-9d8e-4337dc34ed4b",
   "metadata": {},
   "source": [
    "Q5. Create a generator function for prime numbers less than 1000. Use the next() method to print the\n",
    "first 20 prime numbers."
   ]
  },
  {
   "cell_type": "code",
   "execution_count": 11,
   "id": "32a19cef-38a5-41c5-9432-78706114f2d2",
   "metadata": {},
   "outputs": [
    {
     "name": "stdout",
     "output_type": "stream",
     "text": [
      "1\n",
      "2\n",
      "3\n",
      "5\n",
      "7\n",
      "11\n",
      "13\n",
      "17\n",
      "19\n"
     ]
    }
   ],
   "source": [
    "def prime_number(n):\n",
    "    for i in range(n):\n",
    "        if i/2==1 or i/3==1 or i%2!=0 and i%3!=0:\n",
    "            yield i\n",
    "gen=prime_number(21)\n",
    "for j in gen:\n",
    "    print(j)"
   ]
  },
  {
   "cell_type": "markdown",
   "id": "7f4ff848-58c7-4db8-b850-284e7f8e7707",
   "metadata": {},
   "source": [
    "Q6. Write a python program to print the first 10 Fibonacci numbers using a while loop."
   ]
  },
  {
   "cell_type": "code",
   "execution_count": 21,
   "id": "fc763b3f-951e-4249-b1b7-bec6dec724f6",
   "metadata": {},
   "outputs": [
    {
     "name": "stdout",
     "output_type": "stream",
     "text": [
      "0\n",
      "1\n",
      "1\n",
      "2\n",
      "3\n",
      "5\n",
      "8\n",
      "13\n",
      "21\n",
      "34\n"
     ]
    }
   ],
   "source": [
    "def fib():\n",
    "    a,b=0,1\n",
    "    while True:\n",
    "        yield a\n",
    "        a,b=b,a+b\n",
    "fibonacci = fib()\n",
    "for i in range(10):\n",
    "    print(next(fibonacci))\n",
    "    "
   ]
  },
  {
   "cell_type": "markdown",
   "id": "68947af4-a26d-4aca-a832-55b9dbc656c1",
   "metadata": {},
   "source": [
    "Q7. Write a List Comprehension to iterate through the given string: ‘pwskills’.\n",
    "Expected output: ['p', 'w', 's', 'k', 'i', 'l', 'l', 's']"
   ]
  },
  {
   "cell_type": "code",
   "execution_count": 23,
   "id": "07ef1d80-d6b9-430c-ae2b-68060de0a6be",
   "metadata": {},
   "outputs": [
    {
     "data": {
      "text/plain": [
       "['p', 'w', 's', 'k', 'i', 'l', 'l', 's']"
      ]
     },
     "execution_count": 23,
     "metadata": {},
     "output_type": "execute_result"
    }
   ],
   "source": [
    "a=\"pwskills\"\n",
    "list(iter(\"pwskills\"))"
   ]
  },
  {
   "cell_type": "markdown",
   "id": "2227cfae-db96-419c-9c22-609873bbb2da",
   "metadata": {},
   "source": [
    "Q8. Write a python program to check whether a given number is Palindrome or not using a while loop."
   ]
  },
  {
   "cell_type": "code",
   "execution_count": 1,
   "id": "10fac2cd-6cf8-4629-82b3-fd8ead831ae2",
   "metadata": {},
   "outputs": [
    {
     "name": "stdin",
     "output_type": "stream",
     "text": [
      "Enter a number:  143\n"
     ]
    },
    {
     "name": "stdout",
     "output_type": "stream",
     "text": [
      "143 is not a palindrome\n"
     ]
    }
   ],
   "source": [
    "def palindrome(number):\n",
    "    num_str = str(number)\n",
    "    reversed_str = num_str[::-1]\n",
    "\n",
    "    if num_str == reversed_str:\n",
    "        return True\n",
    "    else:\n",
    "        return False\n",
    "num = int(input(\"Enter a number: \"))\n",
    "\n",
    "if palindrome(num):\n",
    "    print(num, \"is a palindrome\")\n",
    "else:\n",
    "    print(num, \"is not a palindrome\")\n"
   ]
  },
  {
   "cell_type": "markdown",
   "id": "2a222652-305a-4e76-82a3-0fbd0a38af62",
   "metadata": {},
   "source": [
    "Q9. Write a code to print odd numbers from 1 to 100 using list comprehension."
   ]
  },
  {
   "cell_type": "code",
   "execution_count": 1,
   "id": "c524e113-e5eb-429f-9929-02a4861b8a85",
   "metadata": {},
   "outputs": [
    {
     "name": "stdout",
     "output_type": "stream",
     "text": [
      "[1, 3, 5, 7, 9, 11, 13, 15, 17, 19, 21, 23, 25, 27, 29, 31, 35, 37, 39, 41, 43, 45, 47, 49, 51, 53, 55, 57, 59, 61, 63, 65, 67, 69, 71, 73, 75, 77, 79, 81, 83, 85, 87, 89, 91, 93, 95, 97, 99]\n"
     ]
    }
   ],
   "source": [
    "listo=[]\n",
    "list=[1,2,3,4,5,6,7,8,9,10,11,12,13,14,15,16,17,18,19,20,21,22,23,24,25,26,27,28,29,30,31,32,34,35,36,37,38,39,40,41,42,43,45,46,47,48,49,50,51,52,53,54,55,56,57,58,59,60,61,62,63,64,65,66,67,68,69,70,71,72,73,74,75,76,77,78,79,80,81,82,83,84,85,86,87,88,89,90,91,92,93,94,95,96,97,98,99,100]\n",
    "for i in list:\n",
    "    if i%2!=0:\n",
    "        listo.append(i)\n",
    "print(listo)"
   ]
  }
 ],
 "metadata": {
  "kernelspec": {
   "display_name": "Python 3 (ipykernel)",
   "language": "python",
   "name": "python3"
  },
  "language_info": {
   "codemirror_mode": {
    "name": "ipython",
    "version": 3
   },
   "file_extension": ".py",
   "mimetype": "text/x-python",
   "name": "python",
   "nbconvert_exporter": "python",
   "pygments_lexer": "ipython3",
   "version": "3.10.8"
  }
 },
 "nbformat": 4,
 "nbformat_minor": 5
}
